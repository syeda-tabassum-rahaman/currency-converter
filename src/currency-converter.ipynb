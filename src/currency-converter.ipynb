{
 "cells": [
  {
   "cell_type": "code",
   "execution_count": 1,
   "metadata": {},
   "outputs": [],
   "source": [
    "import requests,json"
   ]
  },
  {
   "cell_type": "code",
   "execution_count": 2,
   "metadata": {},
   "outputs": [],
   "source": [
    "base_url = \"https://api.exchangeratesapi.io\""
   ]
  },
  {
   "cell_type": "code",
   "execution_count": 4,
   "metadata": {},
   "outputs": [
    {
     "name": "stdout",
     "output_type": "stream",
     "text": [
      "Please enter the date( in the format 'yyyy-mm-dd' or 'latest'): 2020-09-09\n",
      "Convert from (Currency): EUR\n",
      "Convert to (Currency): USD\n",
      "How much EUR do you want to convert: 1\n",
      "\n",
      "1.0 EUR is equal to 1.1773 USD, based upon exchange rates on 2020-09-09\n"
     ]
    }
   ],
   "source": [
    "date= input(\"Please enter the date( in the format 'yyyy-mm-dd' or 'latest'): \")\n",
    "base = input (\"Convert from (Currency): \")\n",
    "curr = input (\"Convert to (Currency): \")\n",
    "quan = float(input(\"How much {} do you want to convert: \" .format(base)))\n",
    "url = base_url + \"/\" + date + \"?base=\" + base + \"&symbols=\" + curr \n",
    "response = requests.get(url)\n",
    "\n",
    "if (response.ok is False):\n",
    "    print(\"\\nError {}: \" .format(response.status_code))\n",
    "    print (response.json()['error'])\n",
    "else:\n",
    "    data = response.json()\n",
    "    rate = data['rates'][curr]\n",
    "    \n",
    "    result = quan*rate\n",
    "    print(\"\\n{0} {1} is equal to {2} {3}, based upon exchange rates on {4}\".format(quan,base,result,curr,data['date']) )"
   ]
  }
 ],
 "metadata": {
  "kernelspec": {
   "display_name": "Python 3",
   "language": "python",
   "name": "python3"
  },
  "language_info": {
   "codemirror_mode": {
    "name": "ipython",
    "version": 3
   },
   "file_extension": ".py",
   "mimetype": "text/x-python",
   "name": "python",
   "nbconvert_exporter": "python",
   "pygments_lexer": "ipython3",
   "version": "3.9.0"
  }
 },
 "nbformat": 4,
 "nbformat_minor": 4
}
